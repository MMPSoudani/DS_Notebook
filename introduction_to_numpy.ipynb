{
 "cells": [
  {
   "cell_type": "markdown",
   "id": "2b002beb",
   "metadata": {},
   "source": [
    "# 5. NumPy"
   ]
  },
  {
   "cell_type": "markdown",
   "id": "2bf1509a",
   "metadata": {},
   "source": [
    "### The fundamental library for scientific computing in Python.<br>This library provides multi-dimentional array object and related functions for fast operations on arrays.\n",
    "### These functions includes:\n",
    "- Logical Operations\n",
    "- Mathematical Operations\n",
    "- Shape Manipulation\n",
    "- Selection\n",
    "- Sorting\n",
    "- Input / Output\n",
    "- Basic Linear Algebra\n",
    "- Basic Statistical Operations\n",
    "- Random simulation\n",
    "\n",
    "### NumPy is Simillar to lists in Python. Two reasons to use numpy over lists:\n",
    "- Fast operations on arrays using a method called vectorization via broadcasting without using loops\n",
    "- Effecient operations on arrays because of its saving method."
   ]
  },
  {
   "cell_type": "markdown",
   "id": "095114e5",
   "metadata": {},
   "source": [
    "# 5.1. Importing NumPy"
   ]
  },
  {
   "cell_type": "code",
   "execution_count": 75,
   "id": "3d0a4e41",
   "metadata": {},
   "outputs": [],
   "source": [
    "import numpy as np"
   ]
  },
  {
   "cell_type": "markdown",
   "id": "9c280be3",
   "metadata": {},
   "source": [
    "# 5.2. NumPy Data Type and Attributes"
   ]
  },
  {
   "cell_type": "markdown",
   "id": "2921af3f",
   "metadata": {},
   "source": [
    "### To check the data type of a NumPy array, first we need to create one.<br>One of creating a NumPy array is using np.arrya() which takes a list of values."
   ]
  },
  {
   "cell_type": "code",
   "execution_count": 76,
   "id": "78ac0c64",
   "metadata": {},
   "outputs": [
    {
     "data": {
      "text/plain": [
       "[0, 1, 2, 3, 4, 5, 6, 7, 8, 9]"
      ]
     },
     "execution_count": 76,
     "metadata": {},
     "output_type": "execute_result"
    }
   ],
   "source": [
    "numbers = [_ for _ in range(10)]\n",
    "numbers"
   ]
  },
  {
   "cell_type": "code",
   "execution_count": 77,
   "id": "4b26078e",
   "metadata": {},
   "outputs": [
    {
     "data": {
      "text/plain": [
       "array([0, 1, 2, 3, 4, 5, 6, 7, 8, 9])"
      ]
     },
     "execution_count": 77,
     "metadata": {},
     "output_type": "execute_result"
    }
   ],
   "source": [
    "np_numbers = np.array(numbers)\n",
    "np_numbers"
   ]
  },
  {
   "cell_type": "markdown",
   "id": "42a251d7",
   "metadata": {},
   "source": [
    "### To check the data type of a NumPy array, use:"
   ]
  },
  {
   "cell_type": "code",
   "execution_count": 78,
   "id": "21ff265e",
   "metadata": {},
   "outputs": [
    {
     "data": {
      "text/plain": [
       "numpy.ndarray"
      ]
     },
     "execution_count": 78,
     "metadata": {},
     "output_type": "execute_result"
    }
   ],
   "source": [
    "type(np_numbers)"
   ]
  },
  {
   "cell_type": "markdown",
   "id": "ae674230",
   "metadata": {},
   "source": [
    "### NumPy data type is ndarray which stands for n-dimentional array.<br>Some of the most used attributes of a NumPy arrays are as follows:\n",
    "- shape: displays number of rows, columns\n",
    "- ndim: displays number of dimentions\n",
    "- size: displays total number of elements\n",
    "- dtype: displays the type of elements"
   ]
  },
  {
   "cell_type": "code",
   "execution_count": 79,
   "id": "4e09cbdc",
   "metadata": {},
   "outputs": [
    {
     "data": {
      "text/plain": [
       "(10,)"
      ]
     },
     "execution_count": 79,
     "metadata": {},
     "output_type": "execute_result"
    }
   ],
   "source": [
    "np_numbers.shape"
   ]
  },
  {
   "cell_type": "code",
   "execution_count": 80,
   "id": "b9e58fe5",
   "metadata": {},
   "outputs": [
    {
     "data": {
      "text/plain": [
       "1"
      ]
     },
     "execution_count": 80,
     "metadata": {},
     "output_type": "execute_result"
    }
   ],
   "source": [
    "np_numbers.ndim"
   ]
  },
  {
   "cell_type": "code",
   "execution_count": 81,
   "id": "126dc556",
   "metadata": {},
   "outputs": [
    {
     "data": {
      "text/plain": [
       "10"
      ]
     },
     "execution_count": 81,
     "metadata": {},
     "output_type": "execute_result"
    }
   ],
   "source": [
    "np_numbers.size"
   ]
  },
  {
   "cell_type": "code",
   "execution_count": 82,
   "id": "c58d1ad6",
   "metadata": {},
   "outputs": [
    {
     "data": {
      "text/plain": [
       "dtype('int64')"
      ]
     },
     "execution_count": 82,
     "metadata": {},
     "output_type": "execute_result"
    }
   ],
   "source": [
    "np_numbers.dtype"
   ]
  },
  {
   "cell_type": "markdown",
   "id": "bb524826",
   "metadata": {},
   "source": [
    "# 5.3. Creating Arrays in NumPy\n",
    "### To create a NumPy array, use:\n",
    "- np.array(list)\n",
    "- np.arange(start, stop, step)\n",
    "- np.ones(size)\n",
    "- np.zeros(size)\n",
    "- np.eye(ndim)\n",
    "- np.identity()"
   ]
  },
  {
   "cell_type": "code",
   "execution_count": 83,
   "id": "c3f0c459",
   "metadata": {},
   "outputs": [
    {
     "data": {
      "text/plain": [
       "array(['a', 'b', 'c', 'd', 'e', 'f', 'g', 'h', 'i', 'j', 'k', 'l', 'm',\n",
       "       'n', 'o', 'p', 'q', 'r', 's', 't', 'u', 'v', 'w', 'x', 'y', 'z'],\n",
       "      dtype='<U1')"
      ]
     },
     "execution_count": 83,
     "metadata": {},
     "output_type": "execute_result"
    }
   ],
   "source": [
    "arr1 = np.array([chr(num) for num in range(ord(\"a\"), ord(\"z\") + 1)])\n",
    "arr1"
   ]
  },
  {
   "cell_type": "code",
   "execution_count": 84,
   "id": "08a5f319",
   "metadata": {},
   "outputs": [
    {
     "data": {
      "text/plain": [
       "array([100, 105, 110, 115, 120, 125, 130, 135, 140, 145, 150, 155, 160,\n",
       "       165, 170, 175, 180, 185, 190, 195])"
      ]
     },
     "execution_count": 84,
     "metadata": {},
     "output_type": "execute_result"
    }
   ],
   "source": [
    "# start and step arguments are optional\n",
    "arr2 = np.arange(100, 200, 5)\n",
    "arr2"
   ]
  },
  {
   "cell_type": "code",
   "execution_count": 85,
   "id": "8442563d",
   "metadata": {},
   "outputs": [
    {
     "data": {
      "text/plain": [
       "array([[1., 1.],\n",
       "       [1., 1.]])"
      ]
     },
     "execution_count": 85,
     "metadata": {},
     "output_type": "execute_result"
    }
   ],
   "source": [
    "arr3 = np.ones((2, 2))\n",
    "arr3"
   ]
  },
  {
   "cell_type": "code",
   "execution_count": 86,
   "id": "6a8ea044",
   "metadata": {},
   "outputs": [
    {
     "data": {
      "text/plain": [
       "array([0., 0., 0., 0., 0., 0.])"
      ]
     },
     "execution_count": 86,
     "metadata": {},
     "output_type": "execute_result"
    }
   ],
   "source": [
    "arr4 = np.zeros(6)\n",
    "arr4"
   ]
  },
  {
   "cell_type": "code",
   "execution_count": 87,
   "id": "7262c8bb",
   "metadata": {},
   "outputs": [
    {
     "data": {
      "text/plain": [
       "array([[1., 0., 0., 0.],\n",
       "       [0., 1., 0., 0.],\n",
       "       [0., 0., 1., 0.]])"
      ]
     },
     "execution_count": 87,
     "metadata": {},
     "output_type": "execute_result"
    }
   ],
   "source": [
    "arr5 = np.eye(3, 4)\n",
    "arr5"
   ]
  },
  {
   "cell_type": "code",
   "execution_count": 88,
   "id": "63e78aad",
   "metadata": {},
   "outputs": [
    {
     "data": {
      "text/plain": [
       "array([[1., 0., 0., 0.],\n",
       "       [0., 1., 0., 0.],\n",
       "       [0., 0., 1., 0.],\n",
       "       [0., 0., 0., 1.]])"
      ]
     },
     "execution_count": 88,
     "metadata": {},
     "output_type": "execute_result"
    }
   ],
   "source": [
    "arr6 = np.identity(4)\n",
    "arr6"
   ]
  },
  {
   "cell_type": "markdown",
   "id": "41f4bb51",
   "metadata": {},
   "source": [
    "### Note: The difference between np.eye() and np.identity() is the second arguemnt in np.eye(), which is optional, but if given, an array of given rows and columns will be created.\n",
    "### Note: When creating an array with different value types, NumPy will upcast the given values to the more general type."
   ]
  },
  {
   "cell_type": "code",
   "execution_count": 89,
   "id": "6c525997",
   "metadata": {},
   "outputs": [
    {
     "data": {
      "text/plain": [
       "array(['1', '2.0', '3.1415'], dtype='<U32')"
      ]
     },
     "execution_count": 89,
     "metadata": {},
     "output_type": "execute_result"
    }
   ],
   "source": [
    "# NumPy will upcast the values to the most general type: str\n",
    "arr7 = np.array([1, 2.0, \"3.1415\"])\n",
    "arr7"
   ]
  },
  {
   "cell_type": "markdown",
   "id": "6583aa43",
   "metadata": {},
   "source": [
    "# 5.4. Creating Random Arrays\n",
    "### To create random arrays with NumPy, use:\n",
    "- np.random.randint(low, high, size)\n",
    "- np.random.random(size)\n",
    "- np.random.rand(d0, d1, d2, ...)"
   ]
  },
  {
   "cell_type": "code",
   "execution_count": 90,
   "id": "14d0a1b8",
   "metadata": {},
   "outputs": [
    {
     "data": {
      "text/plain": [
       "32"
      ]
     },
     "execution_count": 90,
     "metadata": {},
     "output_type": "execute_result"
    }
   ],
   "source": [
    "# low and size are optional arguemnts\n",
    "# If size is not given, a single random int number will be returned\n",
    "np.random.randint(100)"
   ]
  },
  {
   "cell_type": "code",
   "execution_count": 91,
   "id": "f0dc98e3",
   "metadata": {},
   "outputs": [
    {
     "data": {
      "text/plain": [
       "array([[41, 84],\n",
       "       [33, 45],\n",
       "       [85, 65]])"
      ]
     },
     "execution_count": 91,
     "metadata": {},
     "output_type": "execute_result"
    }
   ],
   "source": [
    "random_arr1 = np.random.randint(10, 100, size=(3, 2))\n",
    "random_arr1"
   ]
  },
  {
   "cell_type": "code",
   "execution_count": 92,
   "id": "4a2db769",
   "metadata": {},
   "outputs": [
    {
     "data": {
      "text/plain": [
       "0.21655035442437187"
      ]
     },
     "execution_count": 92,
     "metadata": {},
     "output_type": "execute_result"
    }
   ],
   "source": [
    "# if size is not given, a single random number between 0 and 1 will be returned\n",
    "np.random.random()"
   ]
  },
  {
   "cell_type": "code",
   "execution_count": 93,
   "id": "ed9eb9b2",
   "metadata": {},
   "outputs": [
    {
     "data": {
      "text/plain": [
       "array([0.13521817, 0.32414101, 0.14967487, 0.22232139])"
      ]
     },
     "execution_count": 93,
     "metadata": {},
     "output_type": "execute_result"
    }
   ],
   "source": [
    "random_arr2 = np.random.random(4)\n",
    "random_arr2"
   ]
  },
  {
   "cell_type": "code",
   "execution_count": 94,
   "id": "c549e34e",
   "metadata": {},
   "outputs": [
    {
     "data": {
      "text/plain": [
       "0.38648898112586194"
      ]
     },
     "execution_count": 94,
     "metadata": {},
     "output_type": "execute_result"
    }
   ],
   "source": [
    "# if dimentions are not given, a single number between 0 and 1 will be returned\n",
    "np.random.rand()"
   ]
  },
  {
   "cell_type": "code",
   "execution_count": 95,
   "id": "e0caa978",
   "metadata": {},
   "outputs": [
    {
     "data": {
      "text/plain": [
       "array([[[0.90259848, 0.44994999, 0.61306346, 0.90234858],\n",
       "        [0.09928035, 0.96980907, 0.65314004, 0.17090959],\n",
       "        [0.35815217, 0.75068614, 0.60783067, 0.32504723]],\n",
       "\n",
       "       [[0.03842543, 0.63427406, 0.95894927, 0.65279032],\n",
       "        [0.63505887, 0.99529957, 0.58185033, 0.41436859],\n",
       "        [0.4746975 , 0.6235101 , 0.33800761, 0.67475232]]])"
      ]
     },
     "execution_count": 95,
     "metadata": {},
     "output_type": "execute_result"
    }
   ],
   "source": [
    "random_arr3 = np.random.rand(2, 3, 4)\n",
    "random_arr3"
   ]
  },
  {
   "cell_type": "markdown",
   "id": "d44ad8c6",
   "metadata": {},
   "source": [
    "### Random numbers are not really random, they are psudo-random.<br>To control which sets of random numbers to generate, the function seed() can be used."
   ]
  },
  {
   "cell_type": "code",
   "execution_count": 96,
   "id": "44f472b2",
   "metadata": {},
   "outputs": [
    {
     "data": {
      "text/plain": [
       "0"
      ]
     },
     "execution_count": 96,
     "metadata": {},
     "output_type": "execute_result"
    }
   ],
   "source": [
    "np.random.randint(10)"
   ]
  },
  {
   "cell_type": "code",
   "execution_count": 97,
   "id": "01ce4ef7",
   "metadata": {},
   "outputs": [
    {
     "data": {
      "text/plain": [
       "5"
      ]
     },
     "execution_count": 97,
     "metadata": {},
     "output_type": "execute_result"
    }
   ],
   "source": [
    "np.random.seed(0)\n",
    "np.random.randint(10)"
   ]
  },
  {
   "cell_type": "code",
   "execution_count": 98,
   "id": "15b50d9e",
   "metadata": {},
   "outputs": [
    {
     "data": {
      "text/plain": [
       "5"
      ]
     },
     "execution_count": 98,
     "metadata": {},
     "output_type": "execute_result"
    }
   ],
   "source": [
    "np.random.seed(0)\n",
    "np.random.randint(10)"
   ]
  },
  {
   "cell_type": "markdown",
   "id": "9f048cd2",
   "metadata": {},
   "source": [
    "# 5.5. Viewing and Slicing Arrays"
   ]
  },
  {
   "cell_type": "code",
   "execution_count": 99,
   "id": "29472988",
   "metadata": {},
   "outputs": [
    {
     "data": {
      "text/plain": [
       "array([[[0.90259848, 0.44994999, 0.61306346, 0.90234858],\n",
       "        [0.09928035, 0.96980907, 0.65314004, 0.17090959],\n",
       "        [0.35815217, 0.75068614, 0.60783067, 0.32504723]],\n",
       "\n",
       "       [[0.03842543, 0.63427406, 0.95894927, 0.65279032],\n",
       "        [0.63505887, 0.99529957, 0.58185033, 0.41436859],\n",
       "        [0.4746975 , 0.6235101 , 0.33800761, 0.67475232]]])"
      ]
     },
     "execution_count": 99,
     "metadata": {},
     "output_type": "execute_result"
    }
   ],
   "source": [
    "random_arr3[:]"
   ]
  },
  {
   "cell_type": "code",
   "execution_count": 100,
   "id": "370180b3",
   "metadata": {},
   "outputs": [
    {
     "data": {
      "text/plain": [
       "array([[[0.03842543, 0.63427406, 0.95894927, 0.65279032],\n",
       "        [0.63505887, 0.99529957, 0.58185033, 0.41436859],\n",
       "        [0.4746975 , 0.6235101 , 0.33800761, 0.67475232]]])"
      ]
     },
     "execution_count": 100,
     "metadata": {},
     "output_type": "execute_result"
    }
   ],
   "source": [
    "random_arr3[1:]"
   ]
  },
  {
   "cell_type": "code",
   "execution_count": 101,
   "id": "3ad4c5ff",
   "metadata": {},
   "outputs": [
    {
     "data": {
      "text/plain": [
       "0.6747523222590207"
      ]
     },
     "execution_count": 101,
     "metadata": {},
     "output_type": "execute_result"
    }
   ],
   "source": [
    "# This is the same as random_arr3[1][2][3]\n",
    "random_arr3[1, 2, 3]"
   ]
  },
  {
   "cell_type": "code",
   "execution_count": 102,
   "id": "34ceb30d",
   "metadata": {},
   "outputs": [
    {
     "data": {
      "text/plain": [
       "array([[0.96980907, 0.65314004],\n",
       "       [0.75068614, 0.60783067]])"
      ]
     },
     "execution_count": 102,
     "metadata": {},
     "output_type": "execute_result"
    }
   ],
   "source": [
    "# This is the same as random_arr3[0][1:][1:3]\n",
    "random_arr3[0, 1:, 1:3]"
   ]
  },
  {
   "cell_type": "markdown",
   "id": "4c5ade51",
   "metadata": {},
   "source": [
    "### To get the unique values in an array, use:"
   ]
  },
  {
   "cell_type": "code",
   "execution_count": 103,
   "id": "030c395f",
   "metadata": {},
   "outputs": [
    {
     "data": {
      "text/plain": [
       "array([ 0,  1,  3,  4,  5,  6,  9, 11, 12, 13, 14, 15, 17, 19, 20, 21, 23,\n",
       "       25, 28, 29, 31, 32, 34, 35, 36, 37, 38, 39, 41, 42, 46, 47, 48, 49,\n",
       "       52, 53, 55, 57, 58, 64, 65, 67, 68, 69, 70, 72, 74, 75, 76, 77, 78,\n",
       "       79, 80, 81, 82, 83, 84, 85, 87, 88, 91, 99])"
      ]
     },
     "execution_count": 103,
     "metadata": {},
     "output_type": "execute_result"
    }
   ],
   "source": [
    "np.unique(np.random.randint(100, size=(10, 10)))"
   ]
  },
  {
   "cell_type": "markdown",
   "id": "87855405",
   "metadata": {},
   "source": [
    "# 5.6. Mathematical Operations on Arrays\n",
    "### All mathematical operations like +, -, *, /, //, %, ** can be applied to NumPy arrays.<br>When applying these mathematical operations, both arrays must have the same shape or a single number can be used.<br>NumPy provides functions that are equivalent to the operators menthioned above."
   ]
  },
  {
   "cell_type": "code",
   "execution_count": 104,
   "id": "bd3ebfd2",
   "metadata": {},
   "outputs": [],
   "source": [
    "arr1 = np.random.randint(10, 60, size=(3, 4))\n",
    "arr2 = np.random.randint(1, 10, size=(3, 4))"
   ]
  },
  {
   "cell_type": "code",
   "execution_count": 105,
   "id": "3a8c514d",
   "metadata": {},
   "outputs": [
    {
     "data": {
      "text/plain": [
       "(array([[51, 45, 10, 41],\n",
       "        [15, 40, 10, 59],\n",
       "        [46, 44, 58, 39]]),\n",
       " array([[4, 3, 1, 8],\n",
       "        [6, 1, 3, 8],\n",
       "        [3, 3, 4, 4]]))"
      ]
     },
     "execution_count": 105,
     "metadata": {},
     "output_type": "execute_result"
    }
   ],
   "source": [
    "arr1, arr2"
   ]
  },
  {
   "cell_type": "code",
   "execution_count": 106,
   "id": "895abc74",
   "metadata": {},
   "outputs": [
    {
     "data": {
      "text/plain": [
       "array([[55, 48, 11, 49],\n",
       "       [21, 41, 13, 67],\n",
       "       [49, 47, 62, 43]])"
      ]
     },
     "execution_count": 106,
     "metadata": {},
     "output_type": "execute_result"
    }
   ],
   "source": [
    "# same as arr1 + arr2\n",
    "np.add(arr1, arr2)"
   ]
  },
  {
   "cell_type": "code",
   "execution_count": 107,
   "id": "2b69c1c8",
   "metadata": {},
   "outputs": [
    {
     "data": {
      "text/plain": [
       "array([[47, 42,  9, 33],\n",
       "       [ 9, 39,  7, 51],\n",
       "       [43, 41, 54, 35]])"
      ]
     },
     "execution_count": 107,
     "metadata": {},
     "output_type": "execute_result"
    }
   ],
   "source": [
    "# same as arr1 - arr2\n",
    "np.subtract(arr1, arr2)"
   ]
  },
  {
   "cell_type": "code",
   "execution_count": 108,
   "id": "6f775162",
   "metadata": {},
   "outputs": [
    {
     "data": {
      "text/plain": [
       "array([[204, 135,  10, 328],\n",
       "       [ 90,  40,  30, 472],\n",
       "       [138, 132, 232, 156]])"
      ]
     },
     "execution_count": 108,
     "metadata": {},
     "output_type": "execute_result"
    }
   ],
   "source": [
    "# same as arr1 * arr2\n",
    "np.multiply(arr1, arr2)"
   ]
  },
  {
   "cell_type": "code",
   "execution_count": 109,
   "id": "ef8b7bfd",
   "metadata": {},
   "outputs": [
    {
     "data": {
      "text/plain": [
       "array([[12.75      , 15.        , 10.        ,  5.125     ],\n",
       "       [ 2.5       , 40.        ,  3.33333333,  7.375     ],\n",
       "       [15.33333333, 14.66666667, 14.5       ,  9.75      ]])"
      ]
     },
     "execution_count": 109,
     "metadata": {},
     "output_type": "execute_result"
    }
   ],
   "source": [
    "# same as arr1 / arr2\n",
    "np.divide(arr1, arr2)"
   ]
  },
  {
   "cell_type": "code",
   "execution_count": 110,
   "id": "0ac769f6",
   "metadata": {},
   "outputs": [
    {
     "data": {
      "text/plain": [
       "array([[12, 15, 10,  5],\n",
       "       [ 2, 40,  3,  7],\n",
       "       [15, 14, 14,  9]])"
      ]
     },
     "execution_count": 110,
     "metadata": {},
     "output_type": "execute_result"
    }
   ],
   "source": [
    "# same as arr1 // arr2\n",
    "np.floor_divide(arr1, arr2)"
   ]
  },
  {
   "cell_type": "code",
   "execution_count": 111,
   "id": "6eb69891",
   "metadata": {},
   "outputs": [
    {
     "data": {
      "text/plain": [
       "array([[3, 0, 0, 1],\n",
       "       [3, 0, 1, 3],\n",
       "       [1, 2, 2, 3]])"
      ]
     },
     "execution_count": 111,
     "metadata": {},
     "output_type": "execute_result"
    }
   ],
   "source": [
    "# same as arr1 % arr2\n",
    "np.mod(arr1, arr2)"
   ]
  },
  {
   "cell_type": "code",
   "execution_count": 112,
   "id": "77fe0779",
   "metadata": {},
   "outputs": [
    {
     "data": {
      "text/plain": [
       "array([[        6765201,           91125,              10,\n",
       "          7984925229121],\n",
       "       [       11390625,              40,            1000,\n",
       "        146830437604321],\n",
       "       [          97336,           85184,        11316496,\n",
       "                2313441]])"
      ]
     },
     "execution_count": 112,
     "metadata": {},
     "output_type": "execute_result"
    }
   ],
   "source": [
    "# same as arr1 ** arr2\n",
    "np.power(arr1, arr2)"
   ]
  },
  {
   "cell_type": "code",
   "execution_count": 113,
   "id": "ac50b218",
   "metadata": {},
   "outputs": [
    {
     "name": "stdout",
     "output_type": "stream",
     "text": [
      "18\n"
     ]
    },
    {
     "data": {
      "text/plain": [
       "array([[69, 63, 28, 59],\n",
       "       [33, 58, 28, 77],\n",
       "       [64, 62, 76, 57]])"
      ]
     },
     "execution_count": 113,
     "metadata": {},
     "output_type": "execute_result"
    }
   ],
   "source": [
    "# a single value can be used instead of an array\n",
    "random_number = np.random.randint(50)\n",
    "print(random_number)\n",
    "np.add(arr1, random_number)"
   ]
  },
  {
   "cell_type": "markdown",
   "id": "6aa60521",
   "metadata": {},
   "source": [
    "### The .round() function can be used to round all float values in an array."
   ]
  },
  {
   "cell_type": "code",
   "execution_count": 114,
   "id": "f565c389",
   "metadata": {},
   "outputs": [
    {
     "data": {
      "text/plain": [
       "array([[5.65, 8.65, 5.09],\n",
       "       [9.17, 9.21, 0.83],\n",
       "       [2.78, 0.09, 8.42],\n",
       "       [6.47, 8.41, 2.65],\n",
       "       [3.98, 5.53, 1.65],\n",
       "       [3.7 , 1.46, 5.7 ],\n",
       "       [7.04, 2.88, 4.33]])"
      ]
     },
     "execution_count": 114,
     "metadata": {},
     "output_type": "execute_result"
    }
   ],
   "source": [
    "(np.random.random((7, 3)) * 10).round(2)"
   ]
  },
  {
   "cell_type": "markdown",
   "id": "6951f4c3",
   "metadata": {},
   "source": [
    "### NumPy library provides some other mathematical functions that can be used on its arrays.<br>These functions include np.sum(), np.mean(), np.average(), np.max(), np.min(), np.var(), np.std(), ...\n",
    "### Most of these functions take one array, they have an optional argument \"axis\" which indicates how to apply the function to the given array, there are three modes:\n",
    "\n",
    "- axis=-1 (default): apply the function to all the elements\n",
    "- axis=1: apply the function to each row\n",
    "- axis=0: apply the function to each column"
   ]
  },
  {
   "cell_type": "code",
   "execution_count": 115,
   "id": "9e7fc4fb",
   "metadata": {},
   "outputs": [
    {
     "data": {
      "text/plain": [
       "458"
      ]
     },
     "execution_count": 115,
     "metadata": {},
     "output_type": "execute_result"
    }
   ],
   "source": [
    "np.sum(arr1)"
   ]
  },
  {
   "cell_type": "code",
   "execution_count": 116,
   "id": "895684ff",
   "metadata": {},
   "outputs": [
    {
     "data": {
      "text/plain": [
       "array([147, 124, 187])"
      ]
     },
     "execution_count": 116,
     "metadata": {},
     "output_type": "execute_result"
    }
   ],
   "source": [
    "np.sum(arr1, axis=1)"
   ]
  },
  {
   "cell_type": "code",
   "execution_count": 117,
   "id": "2d527188",
   "metadata": {},
   "outputs": [
    {
     "data": {
      "text/plain": [
       "array([112, 129,  78, 139])"
      ]
     },
     "execution_count": 117,
     "metadata": {},
     "output_type": "execute_result"
    }
   ],
   "source": [
    "np.sum(arr1, axis=0)"
   ]
  },
  {
   "cell_type": "markdown",
   "id": "ef0317e7",
   "metadata": {},
   "source": [
    "### We can compare the time it takes to create a random array of size 1000000 and sum its values using lists and numpy"
   ]
  },
  {
   "cell_type": "code",
   "execution_count": 118,
   "id": "6a3e099b",
   "metadata": {},
   "outputs": [
    {
     "name": "stdout",
     "output_type": "stream",
     "text": [
      "615 ms ± 19.1 ms per loop (mean ± std. dev. of 7 runs, 1 loop each)\n",
      "8.21 ms ± 213 µs per loop (mean ± std. dev. of 7 runs, 100 loops each)\n"
     ]
    }
   ],
   "source": [
    "from random import randint\n",
    "%timeit sum([randint(1, 100) for _ in range(1000000)])\n",
    "%timeit np.sum(np.random.randint(1, 101, size=1000000))"
   ]
  },
  {
   "cell_type": "markdown",
   "id": "612eedf9",
   "metadata": {},
   "source": [
    "# 5.7. Compariosson Operations on Arrays\n",
    "### NumPy arrays can be compared to each other.<br>Just like mathematical operations, arrays must have the same shape or a single value must be used.<br>When camparing arrays, values of the same position from both arrays are compared to each other."
   ]
  },
  {
   "cell_type": "code",
   "execution_count": 119,
   "id": "e0c9b972",
   "metadata": {},
   "outputs": [
    {
     "data": {
      "text/plain": [
       "array([[False, False, False, False],\n",
       "       [False, False, False, False],\n",
       "       [False, False, False, False]])"
      ]
     },
     "execution_count": 119,
     "metadata": {},
     "output_type": "execute_result"
    }
   ],
   "source": [
    "# same as arr1 == arr2\n",
    "np.equal(arr1, arr2)"
   ]
  },
  {
   "cell_type": "code",
   "execution_count": 120,
   "id": "e766f6fa",
   "metadata": {},
   "outputs": [
    {
     "data": {
      "text/plain": [
       "array([[ True,  True,  True,  True],\n",
       "       [ True,  True,  True,  True],\n",
       "       [ True,  True,  True,  True]])"
      ]
     },
     "execution_count": 120,
     "metadata": {},
     "output_type": "execute_result"
    }
   ],
   "source": [
    "# same as arr1 > arr2\n",
    "np.greater(arr1, arr2)"
   ]
  },
  {
   "cell_type": "code",
   "execution_count": 121,
   "id": "a99f34f9",
   "metadata": {},
   "outputs": [
    {
     "data": {
      "text/plain": [
       "array([[False, False, False, False],\n",
       "       [False, False, False, False],\n",
       "       [False, False, False, False]])"
      ]
     },
     "execution_count": 121,
     "metadata": {},
     "output_type": "execute_result"
    }
   ],
   "source": [
    "# same as arr1 <= arr2\n",
    "np.less_equal(arr1, arr2)"
   ]
  },
  {
   "cell_type": "markdown",
   "id": "0aa27b2a",
   "metadata": {},
   "source": [
    "# 5.8. Reshape the Array\n",
    "### NumPy provides two ways to reshape an array:\n",
    "- .reshape(new_shape): rehsape the array not inplace\n",
    "- .resize(new_shape): reshape the array inplace\n",
    "\n",
    "### Note: The new shape must have the same size as the old shape."
   ]
  },
  {
   "cell_type": "code",
   "execution_count": 122,
   "id": "d3cb52eb",
   "metadata": {},
   "outputs": [
    {
     "data": {
      "text/plain": [
       "((3, 4), 12)"
      ]
     },
     "execution_count": 122,
     "metadata": {},
     "output_type": "execute_result"
    }
   ],
   "source": [
    "arr1.shape, arr1.size"
   ]
  },
  {
   "cell_type": "code",
   "execution_count": 123,
   "id": "edb94bac",
   "metadata": {},
   "outputs": [
    {
     "data": {
      "text/plain": [
       "array([[51, 45, 10, 41, 15, 40],\n",
       "       [10, 59, 46, 44, 58, 39]])"
      ]
     },
     "execution_count": 123,
     "metadata": {},
     "output_type": "execute_result"
    }
   ],
   "source": [
    "arr1.reshape((2, 6))"
   ]
  },
  {
   "cell_type": "code",
   "execution_count": 124,
   "id": "40e0a757",
   "metadata": {},
   "outputs": [
    {
     "data": {
      "text/plain": [
       "((3, 4), 12)"
      ]
     },
     "execution_count": 124,
     "metadata": {},
     "output_type": "execute_result"
    }
   ],
   "source": [
    "# did not change the original array\n",
    "arr1.shape, arr1.size"
   ]
  },
  {
   "cell_type": "code",
   "execution_count": 125,
   "id": "45003f02",
   "metadata": {},
   "outputs": [
    {
     "data": {
      "text/plain": [
       "array([[51, 45, 10, 41, 15, 40],\n",
       "       [10, 59, 46, 44, 58, 39]])"
      ]
     },
     "execution_count": 125,
     "metadata": {},
     "output_type": "execute_result"
    }
   ],
   "source": [
    "arr1.resize((2, 6))\n",
    "arr1"
   ]
  },
  {
   "cell_type": "code",
   "execution_count": 126,
   "id": "b0418df3",
   "metadata": {},
   "outputs": [
    {
     "data": {
      "text/plain": [
       "((2, 6), 12)"
      ]
     },
     "execution_count": 126,
     "metadata": {},
     "output_type": "execute_result"
    }
   ],
   "source": [
    "arr1.shape, arr1.size"
   ]
  },
  {
   "cell_type": "markdown",
   "id": "9076b1a3",
   "metadata": {},
   "source": [
    "### NumPy provides the ability to tanspose an array which mean changing the rows to columns."
   ]
  },
  {
   "cell_type": "code",
   "execution_count": 127,
   "id": "209e9d13",
   "metadata": {},
   "outputs": [
    {
     "data": {
      "text/plain": [
       "array([[51, 45, 10, 41, 15, 40],\n",
       "       [10, 59, 46, 44, 58, 39]])"
      ]
     },
     "execution_count": 127,
     "metadata": {},
     "output_type": "execute_result"
    }
   ],
   "source": [
    "arr1"
   ]
  },
  {
   "cell_type": "code",
   "execution_count": 128,
   "id": "03e9d50a",
   "metadata": {},
   "outputs": [
    {
     "data": {
      "text/plain": [
       "array([[51, 10],\n",
       "       [45, 59],\n",
       "       [10, 46],\n",
       "       [41, 44],\n",
       "       [15, 58],\n",
       "       [40, 39]])"
      ]
     },
     "execution_count": 128,
     "metadata": {},
     "output_type": "execute_result"
    }
   ],
   "source": [
    "# arr1.tanspose() does the same thing\n",
    "arr1.T"
   ]
  },
  {
   "cell_type": "markdown",
   "id": "71875101",
   "metadata": {},
   "source": [
    "# 5.9. Dot Product\n",
    "### Dot product is an operation that can be performed on two matrices.<br>Note: The new shape must have the same size as the old shape.The shape of the matrices must follow the pattern:\n",
    "- m1.shape = (m, k)\n",
    "- m2.shape = (k, n)"
   ]
  },
  {
   "cell_type": "code",
   "execution_count": 129,
   "id": "a317f2ab",
   "metadata": {},
   "outputs": [],
   "source": [
    "arr1 = np.random.randint(1, 10, size=(3, 4))\n",
    "arr2 = np.random.randint(1, 10, size=(4, 3))"
   ]
  },
  {
   "cell_type": "code",
   "execution_count": 130,
   "id": "f8588826",
   "metadata": {},
   "outputs": [
    {
     "data": {
      "text/plain": [
       "(array([[7, 8, 4, 1],\n",
       "        [7, 5, 7, 2],\n",
       "        [2, 1, 3, 3]]),\n",
       " array([[1, 1, 4],\n",
       "        [2, 6, 4],\n",
       "        [4, 6, 2],\n",
       "        [5, 1, 2]]))"
      ]
     },
     "execution_count": 130,
     "metadata": {},
     "output_type": "execute_result"
    }
   ],
   "source": [
    "arr1, arr2"
   ]
  },
  {
   "cell_type": "code",
   "execution_count": 131,
   "id": "396d8567",
   "metadata": {},
   "outputs": [
    {
     "data": {
      "text/plain": [
       "array([[44, 80, 70],\n",
       "       [55, 81, 66],\n",
       "       [31, 29, 24]])"
      ]
     },
     "execution_count": 131,
     "metadata": {},
     "output_type": "execute_result"
    }
   ],
   "source": [
    "# arr1 @ arr2 does the same thing\n",
    "np.dot(arr1, arr2)"
   ]
  },
  {
   "cell_type": "markdown",
   "id": "415a4374",
   "metadata": {},
   "source": [
    "# 5.10. Sorting Arrays"
   ]
  },
  {
   "cell_type": "markdown",
   "id": "e3d12715",
   "metadata": {},
   "source": [
    "### The function .sort() can be used to sort an array based on a given axis (-1, 0, 1) in place.<br>This function has an argument kind= which allows chosing what type of sorting algorithm to use."
   ]
  },
  {
   "cell_type": "code",
   "execution_count": 132,
   "id": "4225f713",
   "metadata": {},
   "outputs": [
    {
     "data": {
      "text/plain": [
       "array([[7, 8, 4, 1],\n",
       "       [7, 5, 7, 2],\n",
       "       [2, 1, 3, 3]])"
      ]
     },
     "execution_count": 132,
     "metadata": {},
     "output_type": "execute_result"
    }
   ],
   "source": [
    "arr1"
   ]
  },
  {
   "cell_type": "code",
   "execution_count": 133,
   "id": "ffc561ae",
   "metadata": {},
   "outputs": [
    {
     "data": {
      "text/plain": [
       "array([[1, 4, 7, 8],\n",
       "       [2, 5, 7, 7],\n",
       "       [1, 2, 3, 3]])"
      ]
     },
     "execution_count": 133,
     "metadata": {},
     "output_type": "execute_result"
    }
   ],
   "source": [
    "arr1.sort()\n",
    "arr1"
   ]
  },
  {
   "cell_type": "markdown",
   "id": "ed07e29d",
   "metadata": {},
   "source": [
    "### Comparing the time it takes to sort a random int array of size 1000000"
   ]
  },
  {
   "cell_type": "code",
   "execution_count": 134,
   "id": "05316542",
   "metadata": {},
   "outputs": [],
   "source": [
    "arr = np.random.randint(100, size=(1000, 1000))\n",
    "arr1 = np.copy(arr)\n",
    "arr2 = arr[:]\n",
    "arr3 = arr.copy()"
   ]
  },
  {
   "cell_type": "code",
   "execution_count": 135,
   "id": "78e4edbb",
   "metadata": {},
   "outputs": [
    {
     "data": {
      "text/plain": [
       "((1000, 1000), 1000000, 2, dtype('int64'))"
      ]
     },
     "execution_count": 135,
     "metadata": {},
     "output_type": "execute_result"
    }
   ],
   "source": [
    "arr.shape, arr.size, arr.ndim, arr.dtype"
   ]
  },
  {
   "cell_type": "code",
   "execution_count": 136,
   "id": "3b726d98",
   "metadata": {},
   "outputs": [
    {
     "name": "stdout",
     "output_type": "stream",
     "text": [
      "833 µs ± 104 µs per loop (mean ± std. dev. of 7 runs, 1,000 loops each)\n",
      "51.6 ms ± 1.09 ms per loop (mean ± std. dev. of 7 runs, 10 loops each)\n",
      "640 µs ± 23.4 µs per loop (mean ± std. dev. of 7 runs, 1,000 loops each)\n",
      "11.2 ms ± 433 µs per loop (mean ± std. dev. of 7 runs, 100 loops each)\n"
     ]
    }
   ],
   "source": [
    "%timeit arr.sort(kind=\"mergesort\")\n",
    "%timeit arr1.sort(kind=\"heapsort\")\n",
    "%timeit arr2.sort(kind=\"stable\")\n",
    "%timeit arr3.sort(kind=\"quicksort\")"
   ]
  },
  {
   "cell_type": "markdown",
   "id": "fbeded83",
   "metadata": {},
   "source": [
    "# 5.11. Practical Uses of NumPy\n",
    "## 5.11.1 Converting Images to Arrays for Manipulations"
   ]
  },
  {
   "cell_type": "code",
   "execution_count": 137,
   "id": "ffe7114d",
   "metadata": {},
   "outputs": [],
   "source": [
    "from matplotlib.pyplot import imread, imsave\n",
    "scrap_beast = imread(\"pics/scrap_beast.png\")"
   ]
  },
  {
   "cell_type": "code",
   "execution_count": 138,
   "id": "74f3e1b9",
   "metadata": {},
   "outputs": [
    {
     "data": {
      "text/plain": [
       "((544, 544, 3), 887808, 3, dtype('float32'))"
      ]
     },
     "execution_count": 138,
     "metadata": {},
     "output_type": "execute_result"
    }
   ],
   "source": [
    "scrap_beast.shape, scrap_beast.size, scrap_beast.ndim, scrap_beast.dtype"
   ]
  },
  {
   "cell_type": "code",
   "execution_count": 139,
   "id": "49d2c00b",
   "metadata": {},
   "outputs": [],
   "source": [
    "scrap_beast = scrap_beast * np.random.random()"
   ]
  },
  {
   "cell_type": "code",
   "execution_count": 140,
   "id": "d519e0c3",
   "metadata": {},
   "outputs": [],
   "source": [
    "imsave(\"pics/scrap_beast_new.png\", scrap_beast)"
   ]
  },
  {
   "cell_type": "markdown",
   "id": "07cb74bc",
   "metadata": {},
   "source": [
    "## 5.11.2 Mathematical Computations"
   ]
  },
  {
   "cell_type": "code",
   "execution_count": 141,
   "id": "b916f5b9",
   "metadata": {},
   "outputs": [
    {
     "data": {
      "text/plain": [
       "array([[ 8.72, 85.44, 14.21, 20.7 , 91.11,  8.37, 24.19],\n",
       "       [24.43, 10.53, 80.99, 95.95, 72.89, 87.76, 84.08],\n",
       "       [82.58, 92.7 , 12.53, 81.03,  2.32, 36.75, 35.01],\n",
       "       [57.02,  3.07, 30.54, 25.38, 83.88, 85.89, 86.43],\n",
       "       [39.88, 55.1 , 21.63, 47.51, 70.26, 85.25, 90.93],\n",
       "       [34.96,  1.8 , 68.7 , 30.42, 38.72,  3.01,  3.16],\n",
       "       [88.03, 68.06, 29.64,  3.21, 95.04, 14.71, 71.36]])"
      ]
     },
     "execution_count": 141,
     "metadata": {},
     "output_type": "execute_result"
    }
   ],
   "source": [
    "prices = (np.random.random((7, 7)) * 100).round(2)\n",
    "prices"
   ]
  },
  {
   "cell_type": "code",
   "execution_count": 142,
   "id": "c888c698",
   "metadata": {},
   "outputs": [
    {
     "data": {
      "text/plain": [
       "48.691428571428574"
      ]
     },
     "execution_count": 142,
     "metadata": {},
     "output_type": "execute_result"
    }
   ],
   "source": [
    "average = np.mean(prices)\n",
    "average"
   ]
  },
  {
   "cell_type": "code",
   "execution_count": 143,
   "id": "4a39aeb0",
   "metadata": {},
   "outputs": [
    {
     "data": {
      "text/plain": [
       "1073.6828163265307"
      ]
     },
     "execution_count": 143,
     "metadata": {},
     "output_type": "execute_result"
    }
   ],
   "source": [
    "variance = np.divide(np.sum((prices - average) ** 2), prices.size)\n",
    "variance"
   ]
  },
  {
   "cell_type": "code",
   "execution_count": 144,
   "id": "7468b4c3",
   "metadata": {},
   "outputs": [
    {
     "data": {
      "text/plain": [
       "32.76709960198691"
      ]
     },
     "execution_count": 144,
     "metadata": {},
     "output_type": "execute_result"
    }
   ],
   "source": [
    "standard_deviation = np.sqrt(variance)\n",
    "standard_deviation"
   ]
  },
  {
   "cell_type": "code",
   "execution_count": 145,
   "id": "7cce9bbd",
   "metadata": {},
   "outputs": [
    {
     "data": {
      "text/plain": [
       "(1073.6828163265307, 32.76709960198691)"
      ]
     },
     "execution_count": 145,
     "metadata": {},
     "output_type": "execute_result"
    }
   ],
   "source": [
    "# NumPy provides two functions for calculating variance and standard deviation\n",
    "np.var(prices), np.std(prices)"
   ]
  },
  {
   "cell_type": "markdown",
   "id": "269ceb6b",
   "metadata": {},
   "source": [
    "## 5.11.3 Creating DataFrames from NumPy"
   ]
  },
  {
   "cell_type": "code",
   "execution_count": 146,
   "id": "1f974b1e",
   "metadata": {},
   "outputs": [
    {
     "data": {
      "text/plain": [
       "array([[ 5, 11, 12],\n",
       "       [ 8,  9, 11],\n",
       "       [ 5, 15,  0],\n",
       "       [16,  1, 12],\n",
       "       [ 7, 13, 28],\n",
       "       [ 6, 25, 18],\n",
       "       [20,  5, 18]])"
      ]
     },
     "execution_count": 146,
     "metadata": {},
     "output_type": "execute_result"
    }
   ],
   "source": [
    "# Creating a sales record for three products for a week\n",
    "np.random.seed(1)\n",
    "sales = np.random.randint(30, size=(7, 3))\n",
    "sales"
   ]
  },
  {
   "cell_type": "code",
   "execution_count": 147,
   "id": "96ffbdda",
   "metadata": {},
   "outputs": [
    {
     "data": {
      "text/html": [
       "<div>\n",
       "<style scoped>\n",
       "    .dataframe tbody tr th:only-of-type {\n",
       "        vertical-align: middle;\n",
       "    }\n",
       "\n",
       "    .dataframe tbody tr th {\n",
       "        vertical-align: top;\n",
       "    }\n",
       "\n",
       "    .dataframe thead th {\n",
       "        text-align: right;\n",
       "    }\n",
       "</style>\n",
       "<table border=\"1\" class=\"dataframe\">\n",
       "  <thead>\n",
       "    <tr style=\"text-align: right;\">\n",
       "      <th></th>\n",
       "      <th>Orange</th>\n",
       "      <th>Apple</th>\n",
       "      <th>Kiwi</th>\n",
       "    </tr>\n",
       "  </thead>\n",
       "  <tbody>\n",
       "    <tr>\n",
       "      <th>Sa</th>\n",
       "      <td>5</td>\n",
       "      <td>11</td>\n",
       "      <td>12</td>\n",
       "    </tr>\n",
       "    <tr>\n",
       "      <th>Su</th>\n",
       "      <td>8</td>\n",
       "      <td>9</td>\n",
       "      <td>11</td>\n",
       "    </tr>\n",
       "    <tr>\n",
       "      <th>Mo</th>\n",
       "      <td>5</td>\n",
       "      <td>15</td>\n",
       "      <td>0</td>\n",
       "    </tr>\n",
       "    <tr>\n",
       "      <th>Tu</th>\n",
       "      <td>16</td>\n",
       "      <td>1</td>\n",
       "      <td>12</td>\n",
       "    </tr>\n",
       "    <tr>\n",
       "      <th>We</th>\n",
       "      <td>7</td>\n",
       "      <td>13</td>\n",
       "      <td>28</td>\n",
       "    </tr>\n",
       "    <tr>\n",
       "      <th>Th</th>\n",
       "      <td>6</td>\n",
       "      <td>25</td>\n",
       "      <td>18</td>\n",
       "    </tr>\n",
       "    <tr>\n",
       "      <th>Fr</th>\n",
       "      <td>20</td>\n",
       "      <td>5</td>\n",
       "      <td>18</td>\n",
       "    </tr>\n",
       "  </tbody>\n",
       "</table>\n",
       "</div>"
      ],
      "text/plain": [
       "    Orange  Apple  Kiwi\n",
       "Sa       5     11    12\n",
       "Su       8      9    11\n",
       "Mo       5     15     0\n",
       "Tu      16      1    12\n",
       "We       7     13    28\n",
       "Th       6     25    18\n",
       "Fr      20      5    18"
      ]
     },
     "execution_count": 147,
     "metadata": {},
     "output_type": "execute_result"
    }
   ],
   "source": [
    "sales_df = pd.DataFrame(sales, index=[\"Sa\", \"Su\", \"Mo\", \"Tu\", \"We\", \"Th\", \"Fr\"], columns=[\"Orange\", \"Apple\", \"Kiwi\"])\n",
    "sales_df"
   ]
  },
  {
   "cell_type": "code",
   "execution_count": 148,
   "id": "f27e0722",
   "metadata": {},
   "outputs": [
    {
     "data": {
      "text/plain": [
       "array([0.55, 0.72, 0.6 ])"
      ]
     },
     "execution_count": 148,
     "metadata": {},
     "output_type": "execute_result"
    }
   ],
   "source": [
    "np.random.seed(0)\n",
    "prices = (np.random.random(3)).round(2)\n",
    "prices"
   ]
  },
  {
   "cell_type": "code",
   "execution_count": 149,
   "id": "10f4b616",
   "metadata": {},
   "outputs": [
    {
     "data": {
      "text/html": [
       "<div>\n",
       "<style scoped>\n",
       "    .dataframe tbody tr th:only-of-type {\n",
       "        vertical-align: middle;\n",
       "    }\n",
       "\n",
       "    .dataframe tbody tr th {\n",
       "        vertical-align: top;\n",
       "    }\n",
       "\n",
       "    .dataframe thead th {\n",
       "        text-align: right;\n",
       "    }\n",
       "</style>\n",
       "<table border=\"1\" class=\"dataframe\">\n",
       "  <thead>\n",
       "    <tr style=\"text-align: right;\">\n",
       "      <th></th>\n",
       "      <th>Orange</th>\n",
       "      <th>Apple</th>\n",
       "      <th>Kiwi</th>\n",
       "    </tr>\n",
       "  </thead>\n",
       "  <tbody>\n",
       "    <tr>\n",
       "      <th>Prices</th>\n",
       "      <td>0.55</td>\n",
       "      <td>0.72</td>\n",
       "      <td>0.6</td>\n",
       "    </tr>\n",
       "  </tbody>\n",
       "</table>\n",
       "</div>"
      ],
      "text/plain": [
       "        Orange  Apple  Kiwi\n",
       "Prices    0.55   0.72   0.6"
      ]
     },
     "execution_count": 149,
     "metadata": {},
     "output_type": "execute_result"
    }
   ],
   "source": [
    "prices_df = pd.DataFrame(prices.reshape((1, 3)), index=[\"Prices\"], columns=[\"Orange\", \"Apple\", \"Kiwi\"])\n",
    "prices_df"
   ]
  },
  {
   "cell_type": "code",
   "execution_count": 150,
   "id": "61844e8f",
   "metadata": {},
   "outputs": [
    {
     "data": {
      "text/html": [
       "<div>\n",
       "<style scoped>\n",
       "    .dataframe tbody tr th:only-of-type {\n",
       "        vertical-align: middle;\n",
       "    }\n",
       "\n",
       "    .dataframe tbody tr th {\n",
       "        vertical-align: top;\n",
       "    }\n",
       "\n",
       "    .dataframe thead th {\n",
       "        text-align: right;\n",
       "    }\n",
       "</style>\n",
       "<table border=\"1\" class=\"dataframe\">\n",
       "  <thead>\n",
       "    <tr style=\"text-align: right;\">\n",
       "      <th></th>\n",
       "      <th>Orange</th>\n",
       "      <th>Apple</th>\n",
       "      <th>Kiwi</th>\n",
       "      <th>Daily Sales</th>\n",
       "    </tr>\n",
       "  </thead>\n",
       "  <tbody>\n",
       "    <tr>\n",
       "      <th>Sa</th>\n",
       "      <td>5</td>\n",
       "      <td>11</td>\n",
       "      <td>12</td>\n",
       "      <td>28</td>\n",
       "    </tr>\n",
       "    <tr>\n",
       "      <th>Su</th>\n",
       "      <td>8</td>\n",
       "      <td>9</td>\n",
       "      <td>11</td>\n",
       "      <td>28</td>\n",
       "    </tr>\n",
       "    <tr>\n",
       "      <th>Mo</th>\n",
       "      <td>5</td>\n",
       "      <td>15</td>\n",
       "      <td>0</td>\n",
       "      <td>20</td>\n",
       "    </tr>\n",
       "    <tr>\n",
       "      <th>Tu</th>\n",
       "      <td>16</td>\n",
       "      <td>1</td>\n",
       "      <td>12</td>\n",
       "      <td>29</td>\n",
       "    </tr>\n",
       "    <tr>\n",
       "      <th>We</th>\n",
       "      <td>7</td>\n",
       "      <td>13</td>\n",
       "      <td>28</td>\n",
       "      <td>48</td>\n",
       "    </tr>\n",
       "    <tr>\n",
       "      <th>Th</th>\n",
       "      <td>6</td>\n",
       "      <td>25</td>\n",
       "      <td>18</td>\n",
       "      <td>49</td>\n",
       "    </tr>\n",
       "    <tr>\n",
       "      <th>Fr</th>\n",
       "      <td>20</td>\n",
       "      <td>5</td>\n",
       "      <td>18</td>\n",
       "      <td>43</td>\n",
       "    </tr>\n",
       "  </tbody>\n",
       "</table>\n",
       "</div>"
      ],
      "text/plain": [
       "    Orange  Apple  Kiwi  Daily Sales\n",
       "Sa       5     11    12           28\n",
       "Su       8      9    11           28\n",
       "Mo       5     15     0           20\n",
       "Tu      16      1    12           29\n",
       "We       7     13    28           48\n",
       "Th       6     25    18           49\n",
       "Fr      20      5    18           43"
      ]
     },
     "execution_count": 150,
     "metadata": {},
     "output_type": "execute_result"
    }
   ],
   "source": [
    "sales_df[\"Daily Sales\"] = np.sum(sales, axis=1)\n",
    "sales_df"
   ]
  },
  {
   "cell_type": "code",
   "execution_count": 151,
   "id": "392aa3ab",
   "metadata": {},
   "outputs": [
    {
     "data": {
      "text/html": [
       "<div>\n",
       "<style scoped>\n",
       "    .dataframe tbody tr th:only-of-type {\n",
       "        vertical-align: middle;\n",
       "    }\n",
       "\n",
       "    .dataframe tbody tr th {\n",
       "        vertical-align: top;\n",
       "    }\n",
       "\n",
       "    .dataframe thead th {\n",
       "        text-align: right;\n",
       "    }\n",
       "</style>\n",
       "<table border=\"1\" class=\"dataframe\">\n",
       "  <thead>\n",
       "    <tr style=\"text-align: right;\">\n",
       "      <th></th>\n",
       "      <th>Orange</th>\n",
       "      <th>Apple</th>\n",
       "      <th>Kiwi</th>\n",
       "      <th>Daily Sales</th>\n",
       "      <th>Total Sales</th>\n",
       "    </tr>\n",
       "  </thead>\n",
       "  <tbody>\n",
       "    <tr>\n",
       "      <th>Sa</th>\n",
       "      <td>5</td>\n",
       "      <td>11</td>\n",
       "      <td>12</td>\n",
       "      <td>28</td>\n",
       "      <td>17.87</td>\n",
       "    </tr>\n",
       "    <tr>\n",
       "      <th>Su</th>\n",
       "      <td>8</td>\n",
       "      <td>9</td>\n",
       "      <td>11</td>\n",
       "      <td>28</td>\n",
       "      <td>17.48</td>\n",
       "    </tr>\n",
       "    <tr>\n",
       "      <th>Mo</th>\n",
       "      <td>5</td>\n",
       "      <td>15</td>\n",
       "      <td>0</td>\n",
       "      <td>20</td>\n",
       "      <td>13.55</td>\n",
       "    </tr>\n",
       "    <tr>\n",
       "      <th>Tu</th>\n",
       "      <td>16</td>\n",
       "      <td>1</td>\n",
       "      <td>12</td>\n",
       "      <td>29</td>\n",
       "      <td>16.72</td>\n",
       "    </tr>\n",
       "    <tr>\n",
       "      <th>We</th>\n",
       "      <td>7</td>\n",
       "      <td>13</td>\n",
       "      <td>28</td>\n",
       "      <td>48</td>\n",
       "      <td>30.01</td>\n",
       "    </tr>\n",
       "    <tr>\n",
       "      <th>Th</th>\n",
       "      <td>6</td>\n",
       "      <td>25</td>\n",
       "      <td>18</td>\n",
       "      <td>49</td>\n",
       "      <td>32.10</td>\n",
       "    </tr>\n",
       "    <tr>\n",
       "      <th>Fr</th>\n",
       "      <td>20</td>\n",
       "      <td>5</td>\n",
       "      <td>18</td>\n",
       "      <td>43</td>\n",
       "      <td>25.40</td>\n",
       "    </tr>\n",
       "  </tbody>\n",
       "</table>\n",
       "</div>"
      ],
      "text/plain": [
       "    Orange  Apple  Kiwi  Daily Sales  Total Sales\n",
       "Sa       5     11    12           28        17.87\n",
       "Su       8      9    11           28        17.48\n",
       "Mo       5     15     0           20        13.55\n",
       "Tu      16      1    12           29        16.72\n",
       "We       7     13    28           48        30.01\n",
       "Th       6     25    18           49        32.10\n",
       "Fr      20      5    18           43        25.40"
      ]
     },
     "execution_count": 151,
     "metadata": {},
     "output_type": "execute_result"
    }
   ],
   "source": [
    "sales_df[\"Total Sales\"] = np.sum(np.multiply(sales, prices), axis=1)\n",
    "sales_df"
   ]
  }
 ],
 "metadata": {
  "kernelspec": {
   "display_name": "Python 3 (ipykernel)",
   "language": "python",
   "name": "python3"
  },
  "language_info": {
   "codemirror_mode": {
    "name": "ipython",
    "version": 3
   },
   "file_extension": ".py",
   "mimetype": "text/x-python",
   "name": "python",
   "nbconvert_exporter": "python",
   "pygments_lexer": "ipython3",
   "version": "3.8.10"
  }
 },
 "nbformat": 4,
 "nbformat_minor": 5
}
